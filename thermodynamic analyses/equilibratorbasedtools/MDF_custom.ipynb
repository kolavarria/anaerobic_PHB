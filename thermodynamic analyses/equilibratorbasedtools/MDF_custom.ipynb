{
 "cells": [
  {
   "cell_type": "markdown",
   "metadata": {},
   "source": [
    "# Thermodynamic analysis of strategy enabling anaerobic production of PHB\n",
    "\n",
    "In this script, we have performed the MDF analyses for the thermodynamic investigation of the NOG+EMP pathway in comparison to other strategies enabling PHB production, also demonstrating how the analysis of other pathways and metabolic engineering strategies could be analyzed by other researchers with the custom-made functions we have developed in this study."
   ]
  },
  {
   "cell_type": "code",
   "execution_count": 1,
   "metadata": {},
   "outputs": [
    {
     "name": "stdout",
     "output_type": "stream",
     "text": [
      "Downloading package metadata...\n",
      "Fragments already downloaded\n",
      "Downloading package metadata...\n",
      "Fragments already downloaded\n"
     ]
    }
   ],
   "source": [
    "from equilibrator_api import Q_ #for creating quantity variables\n",
    "import equilibrator_custom_functions as eq #custom functions created during analysis\n",
    "import numpy as np #numerical package\n",
    "import math\n",
    "import matplotlib.pyplot as plt #plotting package"
   ]
  },
  {
   "cell_type": "markdown",
   "metadata": {},
   "source": [
    "# Input Files and their formats\n",
    "\n",
    "The script's input is based on the two custom __input csv files__, which are:\n",
    "\n",
    "   __The compound file__, with metabolite names, IDs and bounds. It is currently name \"metabolite_reference_table\"\n",
    "   \n",
    "   This file uses a custom csv file format, which contains information of multiple metabolites, to create a dictionary which will be used for the eQuilibrator API for high throughput analysis. This dictionary allows for writing reactions in a simpler way (with acronyms), and customizing the ranges of metabolites according to data. The columns contain the following elements:\n",
    "\n",
    "| Metabolite Acronym        | keggID                          | Lower Bound (M)             | Upper Bound (M)               |\n",
    "|------------------|----------------------------------|----------------------|------------------------|\n",
    "|Custom-defined name for metabolite| Kegg ID to identify metabolite (necessary to use specific kegg ID) | Custom-defined minimal concentration (in M)| Custom-defined maximal concentration (in M) |\n",
    "\n",
    "Notice that the column names do not need to be mantained in order to be recognized in the script. More usefull information can be added to the other columns, as the script will ignore the information stored in these.\n",
    "\n",
    "   __The pathway file__, with reaction names, formulae, fluxes, and, in the case of ECM, enzyme parameters (which will be read by other functions below). Being pathway specific, there are many files referenced in this script. The columns contain the follow basic setup:\n",
    "   \n",
    "| Reaction Formula        | Relative Flux                          | Reaction Name  |     Standard dG (kJ/mol)        | kcrf(1/s) | MWe(Da)        | kM(mM) |\n",
    "|------------------|----------------------------------|----------------------|------------------------|-----------------|-------|-----|\n",
    "|Using the acronyms defined in the compound file: S1 + S2 <=> P1 + P2| The relative stoichiometric coefficient of the reaction in the pathway | Customizable name to identify the reaction in graphs, for example | __(Optional)__ Standard Gibs Free Energy of Reaction in kJ/mol. These are custom values that can replace the values obtained from the eQuilibrator packages|__(Only needed for ECM)__ Forward catalytic rate of reaction's enzyme in 1/s (mind the direction of the reaction) |__(Only needed for ECM)__ Enzyme molecular weight, equivalent to Daltons |__(Only needed for ECM)__ Michaelis costants of each substrate and product (except water) in milimolar, with format example 'S1: 0.1 S2:0.02 P1:3 P2:0.3' | "
   ]
  },
  {
   "cell_type": "markdown",
   "metadata": {},
   "source": [
    "# Setting Intracellular Conditions\n",
    "\n",
    "Below we set the intracellular conditions in *E. coli*, i.e the pH, ionic strengh, temperature and pMg (which have an effect on the thermodynamics of reactions). Note that metabolite concentration bounds are also organism specific, but are defined in the compound file.\n",
    "\n",
    "In the cell bellow the name of the compound csv file is defined __(\"metabolite_reference_table\")__. With the function __eq.obtain_compound_settings( string: compound_file_name )__, we construct a __CompoundSettings__ object containing data structures for idetifying compounds and setting their maximal and minimal concentrations for the model)\n",
    "\n",
    "With __eq.change_bounds__ , one can create a new CompoundSettings object with specific changes in the metabolite concentration bounds.\n",
    "\n",
    "The __eq.fix_concentrations__ function can also be used when the concentration needs to fixed at a specific concentration"
   ]
  },
  {
   "cell_type": "code",
   "execution_count": 2,
   "metadata": {},
   "outputs": [],
   "source": [
    "#E. coli physiological conditions as a dictionary\n",
    "E_coli_con = {\n",
    "            \"p_h\": str(Q_(\"7.5\")),\n",
    "            \"p_mg\": str(Q_(3)),\n",
    "            \"ionic_strength\": str(Q_('200 mM')),\n",
    "            \"temperature\": str(Q_(37+273.15,\"K\")),\n",
    "            \"kcat_source\": \"fwd\",\n",
    "}\n",
    "\n",
    "#Generating Compound Settings with the default eQuilibrator bounds\n",
    "cs_default_bounds = eq.obtain_compound_settings(\"metabolite_reference_table_custom\", custom_bounds = True)"
   ]
  },
  {
   "cell_type": "markdown",
   "metadata": {},
   "source": [
    "# Initial Max-min Driving Force (MDF) analysis\n",
    "\n",
    "The MDF analysis can be quickly performed with the __eq.MDF_analysis__ function, receiving a full report of the results:"
   ]
  },
  {
   "cell_type": "code",
   "execution_count": 3,
   "metadata": {
    "scrolled": true
   },
   "outputs": [],
   "source": [
    "#mdf_result = eq.MDF_analysis(\"EMP\",cs_default_bounds,E_coli_con)\n",
    "#import os  \n",
    "#os.rename('MDF.tiff','MDFEMP_custom.tiff')"
   ]
  },
  {
   "cell_type": "code",
   "execution_count": 4,
   "metadata": {
    "scrolled": true
   },
   "outputs": [],
   "source": [
    "#mdf_result = eq.MDF_analysis(\"ED\",cs_default_bounds,E_coli_con)\n",
    "#os.rename('MDF.tiff','MDFED_custom.tiff')"
   ]
  },
  {
   "cell_type": "code",
   "execution_count": null,
   "metadata": {},
   "outputs": [],
   "source": [
    "mdf_result = eq.MDF_analysis(\"NOGEMP\",cs_default_bounds,E_coli_con)\n",
    "#os.rename('MDF.tiff','MDFNOGEMP_custom.tiff')"
   ]
  },
  {
   "cell_type": "code",
   "execution_count": null,
   "metadata": {},
   "outputs": [],
   "source": [
    "#mdf_result = eq.MDF_analysis(\"EMPsc\",cs_default_bounds,E_coli_con)"
   ]
  },
  {
   "cell_type": "code",
   "execution_count": null,
   "metadata": {},
   "outputs": [],
   "source": [
    "#mdf_result = eq.MDF_analysis(\"EDsc\",cs_default_bounds,E_coli_con)"
   ]
  },
  {
   "cell_type": "code",
   "execution_count": null,
   "metadata": {},
   "outputs": [],
   "source": [
    "#mdf_result = eq.MDF_analysis(\"NOGEMPsc\",cs_default_bounds,E_coli_con)"
   ]
  },
  {
   "cell_type": "code",
   "execution_count": null,
   "metadata": {},
   "outputs": [],
   "source": [
    "mdf_result = eq.MDF_analysis(\"NOGEMPsuc\",cs_default_bounds,E_coli_con)"
   ]
  },
  {
   "cell_type": "markdown",
   "metadata": {},
   "source": [
    "# Concentration Variability Analysis (CVA)\n",
    "\n",
    "A function for easy execution of CVA has also been created, __eq.MDF_CVA__. The results will automatically be printed unless  __print_results = False__ is used. The optional argument __compounds__ can also be used to specify what metabolites will be analyzed, but by default CVA will be performed for all metabolites except water. The function will highlight which linear problems are unbounded (in which concentration could vary indefinitely) or unfeasible. CVA results are given in the form of a list of tuples with metabolite name, minimum and maximum concentrations and can be later plotted with __eq.CVA_plot__, for when the user would like to customize the plot layout:"
   ]
  },
  {
   "cell_type": "code",
   "execution_count": null,
   "metadata": {},
   "outputs": [],
   "source": [
    "cva = eq.MDF_CVA(1,'EMP',cs_default_bounds,E_coli_con, custom_dGs = False, print_results = False)\n",
    "fig = plt.figure(figsize=(12, 7.5))\n",
    "ax = plt.subplot()\n",
    "eq.CVA_plot(cva, ax=ax)\n",
    "\n",
    "plt.rcParams['font.size'] = '16'\n",
    "\n",
    "# Set tick font size\n",
    "for label in (ax.get_xticklabels() + ax.get_yticklabels()):\n",
    "    label.set_fontsize(16)\n",
    "\n",
    "plt.ylabel('Metabolite concentration (M)',fontsize=16)\n",
    "#plt.xlabel('Metabolites',fontsize=16)\n",
    "#ax.set_title('Concentration Variability Analysis for an MDF = 2.8 kJ/mol', fontsize=16)\n",
    "plt.tight_layout()\n",
    "print(cva)\n",
    "fig.savefig('CVA_EMP_1kJ.tiff', dpi = 150)"
   ]
  },
  {
   "cell_type": "code",
   "execution_count": null,
   "metadata": {},
   "outputs": [],
   "source": [
    "cva = eq.MDF_CVA(3,'EMP',cs_default_bounds,E_coli_con, custom_dGs = False, print_results = False)\n",
    "fig = plt.figure(figsize=(12, 7.5))\n",
    "ax = plt.subplot()\n",
    "eq.CVA_plot(cva, ax=ax)\n",
    "\n",
    "plt.rcParams['font.size'] = '16'\n",
    "\n",
    "# Set tick font size\n",
    "for label in (ax.get_xticklabels() + ax.get_yticklabels()):\n",
    "    label.set_fontsize(16)\n",
    "\n",
    "plt.ylabel('Metabolite concentration (M)',fontsize=16)\n",
    "#plt.xlabel('Metabolites',fontsize=16)\n",
    "#ax.set_title('Concentration Variability Analysis for an MDF = 2.8 kJ/mol', fontsize=16)\n",
    "plt.tight_layout()\n",
    "print(cva)\n",
    "fig.savefig('CVA_EMP_3kJ.tiff', dpi = 150)"
   ]
  },
  {
   "cell_type": "code",
   "execution_count": null,
   "metadata": {},
   "outputs": [],
   "source": [
    "cva = eq.MDF_CVA(5,'EMP',cs_default_bounds,E_coli_con, custom_dGs = False, print_results = False)\n",
    "fig = plt.figure(figsize=(12, 7.5))\n",
    "ax = plt.subplot()\n",
    "eq.CVA_plot(cva, ax=ax)\n",
    "\n",
    "plt.rcParams['font.size'] = '16'\n",
    "\n",
    "# Set tick font size\n",
    "for label in (ax.get_xticklabels() + ax.get_yticklabels()):\n",
    "    label.set_fontsize(16)\n",
    "\n",
    "plt.ylabel('Metabolite concentration (M)',fontsize=16)\n",
    "#plt.xlabel('Metabolites',fontsize=16)\n",
    "#ax.set_title('Concentration Variability Analysis for an MDF = 2.8 kJ/mol', fontsize=16)\n",
    "plt.tight_layout()\n",
    "print(cva)\n",
    "fig.savefig('CVA_EMP_5kJ.tiff', dpi = 150)"
   ]
  },
  {
   "cell_type": "code",
   "execution_count": null,
   "metadata": {},
   "outputs": [],
   "source": [
    "import pandas as pd \n",
    "df = pd.DataFrame(cva)\n",
    "df.to_csv('CVA_EMP_5kJ.csv')"
   ]
  },
  {
   "cell_type": "code",
   "execution_count": null,
   "metadata": {},
   "outputs": [],
   "source": [
    "cva = eq.MDF_CVA(1,'ED',cs_default_bounds,E_coli_con, custom_dGs = False, print_results = False)\n",
    "fig = plt.figure(figsize=(12, 7.5))\n",
    "ax = plt.subplot()\n",
    "eq.CVA_plot(cva, ax=ax)\n",
    "\n",
    "plt.rcParams['font.size'] = '16'\n",
    "\n",
    "# Set tick font size\n",
    "for label in (ax.get_xticklabels() + ax.get_yticklabels()):\n",
    "    label.set_fontsize(16)\n",
    "\n",
    "plt.ylabel('Metabolite concentration (M)',fontsize=16)\n",
    "#plt.xlabel('Metabolites',fontsize=16)\n",
    "#ax.set_title('Concentration Variability Analysis for an MDF = 2.8 kJ/mol', fontsize=16)\n",
    "plt.tight_layout()\n",
    "print(cva)\n",
    "fig.savefig('CVA_ED_1kJ.tiff', dpi = 150)"
   ]
  },
  {
   "cell_type": "code",
   "execution_count": null,
   "metadata": {},
   "outputs": [],
   "source": [
    "cva = eq.MDF_CVA(5,'ED',cs_default_bounds,E_coli_con, custom_dGs = False, print_results = False)\n",
    "fig = plt.figure(figsize=(12, 7.5))\n",
    "ax = plt.subplot()\n",
    "eq.CVA_plot(cva, ax=ax)\n",
    "\n",
    "plt.rcParams['font.size'] = '16'\n",
    "\n",
    "# Set tick font size\n",
    "for label in (ax.get_xticklabels() + ax.get_yticklabels()):\n",
    "    label.set_fontsize(16)\n",
    "\n",
    "plt.ylabel('Metabolite concentration (M)',fontsize=16)\n",
    "#plt.xlabel('Metabolites',fontsize=16)\n",
    "#ax.set_title('Concentration Variability Analysis for an MDF = 2.8 kJ/mol', fontsize=16)\n",
    "plt.tight_layout()\n",
    "print(cva)\n",
    "fig.savefig('CVA_ED_5kJ.tiff', dpi = 150)"
   ]
  },
  {
   "cell_type": "code",
   "execution_count": null,
   "metadata": {},
   "outputs": [],
   "source": [
    "import pandas as pd \n",
    "df = pd.DataFrame(cva)\n",
    "df.to_csv('CVA_ED_5kJ.csv')"
   ]
  },
  {
   "cell_type": "code",
   "execution_count": null,
   "metadata": {},
   "outputs": [],
   "source": [
    "cva = eq.MDF_CVA(1,'NOGEMP',cs_default_bounds,E_coli_con, custom_dGs = False, print_results = False)\n",
    "\n",
    "fig = plt.figure(figsize=(12, 7.5))\n",
    "ax = plt.subplot()\n",
    "eq.CVA_plot(cva, ax=ax)\n",
    "\n",
    "plt.rcParams['font.size'] = '16'\n",
    "\n",
    "# Set tick font size\n",
    "for label in (ax.get_xticklabels() + ax.get_yticklabels()):\n",
    "    label.set_fontsize(16)\n",
    "\n",
    "plt.ylabel('Metabolite concentration (M)',fontsize=16)\n",
    "#plt.xlabel('Metabolites',fontsize=16)\n",
    "#ax.set_title('Concentration Variability Analysis for an MDF = 2.8 kJ/mol', fontsize=16)\n",
    "plt.tight_layout()\n",
    "print(cva)\n",
    "fig.savefig('CVA_NOGEMP_1kJ.tiff', dpi = 150)"
   ]
  },
  {
   "cell_type": "code",
   "execution_count": null,
   "metadata": {},
   "outputs": [],
   "source": [
    "cva = eq.MDF_CVA(3,'NOGEMP',cs_default_bounds,E_coli_con, custom_dGs = False, print_results = False)\n",
    "fig = plt.figure(figsize=(12, 7.5))\n",
    "ax = plt.subplot()\n",
    "eq.CVA_plot(cva, ax=ax)\n",
    "\n",
    "plt.rcParams['font.size'] = '16'\n",
    "\n",
    "# Set tick font size\n",
    "for label in (ax.get_xticklabels() + ax.get_yticklabels()):\n",
    "    label.set_fontsize(16)\n",
    "\n",
    "plt.ylabel('Metabolite concentration (M)',fontsize=16)\n",
    "#plt.xlabel('Metabolites',fontsize=16)\n",
    "#ax.set_title('Concentration Variability Analysis for an MDF = 2.8 kJ/mol', fontsize=16)\n",
    "plt.tight_layout()\n",
    "print(cva)\n",
    "fig.savefig('CVA_NOGEMP_3kJ.tiff', dpi = 150)"
   ]
  },
  {
   "cell_type": "code",
   "execution_count": null,
   "metadata": {},
   "outputs": [],
   "source": [
    "import pandas as pd \n",
    "df = pd.DataFrame(cva)\n",
    "df.to_csv('CVA_NOGEMP_3kJ.csv')"
   ]
  },
  {
   "cell_type": "code",
   "execution_count": null,
   "metadata": {},
   "outputs": [],
   "source": [
    "cva = eq.MDF_CVA(1,'EMPsc',cs_default_bounds,E_coli_con, custom_dGs = False, print_results = False)\n",
    "fig = plt.figure(figsize=(12, 7.5))\n",
    "ax = plt.subplot()\n",
    "eq.CVA_plot(cva, ax=ax)\n",
    "\n",
    "plt.rcParams['font.size'] = '16'\n",
    "\n",
    "# Set tick font size\n",
    "for label in (ax.get_xticklabels() + ax.get_yticklabels()):\n",
    "    label.set_fontsize(16)\n",
    "\n",
    "plt.ylabel('Metabolite concentration (M)',fontsize=16)\n",
    "#plt.xlabel('Metabolites',fontsize=16)\n",
    "#ax.set_title('Concentration Variability Analysis for an MDF = 2.8 kJ/mol', fontsize=16)\n",
    "plt.tight_layout()\n",
    "print(cva)\n",
    "fig.savefig('CVA_EMPsc_1kJ.tiff', dpi = 150)"
   ]
  },
  {
   "cell_type": "code",
   "execution_count": null,
   "metadata": {},
   "outputs": [],
   "source": [
    "cva = eq.MDF_CVA(5,'EMPsc',cs_default_bounds,E_coli_con, custom_dGs = False, print_results = False)\n",
    "fig = plt.figure(figsize=(12, 7.5))\n",
    "ax = plt.subplot()\n",
    "eq.CVA_plot(cva, ax=ax)\n",
    "\n",
    "plt.rcParams['font.size'] = '16'\n",
    "\n",
    "# Set tick font size\n",
    "for label in (ax.get_xticklabels() + ax.get_yticklabels()):\n",
    "    label.set_fontsize(16)\n",
    "\n",
    "plt.ylabel('Metabolite concentration (M)',fontsize=16)\n",
    "#plt.xlabel('Metabolites',fontsize=16)\n",
    "#ax.set_title('Concentration Variability Analysis for an MDF = 2.8 kJ/mol', fontsize=16)\n",
    "plt.tight_layout()\n",
    "print(cva)\n",
    "fig.savefig('CVA_EMPsc_5kJ.tiff', dpi = 150)"
   ]
  },
  {
   "cell_type": "code",
   "execution_count": null,
   "metadata": {},
   "outputs": [],
   "source": [
    "import pandas as pd \n",
    "df = pd.DataFrame(cva)\n",
    "df.to_csv('CVA_EMPsc_5kJ.csv')"
   ]
  },
  {
   "cell_type": "code",
   "execution_count": null,
   "metadata": {},
   "outputs": [],
   "source": [
    "cva = eq.MDF_CVA(1,'EDsc',cs_default_bounds,E_coli_con, custom_dGs = False, print_results = False)\n",
    "fig = plt.figure(figsize=(12, 7.5))\n",
    "ax = plt.subplot()\n",
    "eq.CVA_plot(cva, ax=ax)\n",
    "\n",
    "plt.rcParams['font.size'] = '16'\n",
    "\n",
    "# Set tick font size\n",
    "for label in (ax.get_xticklabels() + ax.get_yticklabels()):\n",
    "    label.set_fontsize(16)\n",
    "\n",
    "plt.ylabel('Metabolite concentration (M)',fontsize=16)\n",
    "#plt.xlabel('Metabolites',fontsize=16)\n",
    "#ax.set_title('Concentration Variability Analysis for an MDF = 2.8 kJ/mol', fontsize=16)\n",
    "plt.tight_layout()\n",
    "print(cva)\n",
    "fig.savefig('CVA_EDsc_1kJ.tiff', dpi = 150)"
   ]
  },
  {
   "cell_type": "code",
   "execution_count": null,
   "metadata": {},
   "outputs": [],
   "source": [
    "cva = eq.MDF_CVA(5,'EDsc',cs_default_bounds,E_coli_con, custom_dGs = False, print_results = False)\n",
    "fig = plt.figure(figsize=(12, 7.5))\n",
    "ax = plt.subplot()\n",
    "eq.CVA_plot(cva, ax=ax)\n",
    "\n",
    "plt.rcParams['font.size'] = '16'\n",
    "\n",
    "# Set tick font size\n",
    "for label in (ax.get_xticklabels() + ax.get_yticklabels()):\n",
    "    label.set_fontsize(16)\n",
    "\n",
    "plt.ylabel('Metabolite concentration (M)',fontsize=16)\n",
    "#plt.xlabel('Metabolites',fontsize=16)\n",
    "#ax.set_title('Concentration Variability Analysis for an MDF = 2.8 kJ/mol', fontsize=16)\n",
    "plt.tight_layout()\n",
    "print(cva)\n",
    "fig.savefig('CVA_EDsc_5kJ.tiff', dpi = 150)"
   ]
  },
  {
   "cell_type": "code",
   "execution_count": null,
   "metadata": {},
   "outputs": [],
   "source": [
    "import pandas as pd \n",
    "df = pd.DataFrame(cva)\n",
    "df.to_csv('CVA_EDsc_5kJ.csv')"
   ]
  },
  {
   "cell_type": "code",
   "execution_count": null,
   "metadata": {},
   "outputs": [],
   "source": [
    "cva = eq.MDF_CVA(1,'NOGEMPsc',cs_default_bounds,E_coli_con, custom_dGs = False, print_results = False)\n",
    "\n",
    "fig = plt.figure(figsize=(12, 7.5))\n",
    "ax = plt.subplot()\n",
    "eq.CVA_plot(cva, ax=ax)\n",
    "\n",
    "plt.rcParams['font.size'] = '16'\n",
    "\n",
    "# Set tick font size\n",
    "for label in (ax.get_xticklabels() + ax.get_yticklabels()):\n",
    "    label.set_fontsize(16)\n",
    "\n",
    "plt.ylabel('Metabolite concentration (M)',fontsize=16)\n",
    "#plt.xlabel('Metabolites',fontsize=16)\n",
    "#ax.set_title('Concentration Variability Analysis for an MDF = 2.8 kJ/mol', fontsize=16)\n",
    "plt.tight_layout()\n",
    "print(cva)\n",
    "fig.savefig('CVA_NOGEMPsc_1kJ.tiff', dpi = 150)"
   ]
  },
  {
   "cell_type": "code",
   "execution_count": null,
   "metadata": {},
   "outputs": [],
   "source": [
    "cva = eq.MDF_CVA(3,'NOGEMPsc',cs_default_bounds,E_coli_con, custom_dGs = False, print_results = False)\n",
    "fig = plt.figure(figsize=(12, 7.5))\n",
    "ax = plt.subplot()\n",
    "eq.CVA_plot(cva, ax=ax)\n",
    "\n",
    "plt.rcParams['font.size'] = '16'\n",
    "\n",
    "# Set tick font size\n",
    "for label in (ax.get_xticklabels() + ax.get_yticklabels()):\n",
    "    label.set_fontsize(16)\n",
    "\n",
    "plt.ylabel('Metabolite concentration (M)',fontsize=16)\n",
    "#plt.xlabel('Metabolites',fontsize=16)\n",
    "#ax.set_title('Concentration Variability Analysis for an MDF = 2.8 kJ/mol', fontsize=16)\n",
    "plt.tight_layout()\n",
    "print(cva)\n",
    "fig.savefig('CVA_NOGEMPsc_3kJ.tiff', dpi = 150)"
   ]
  },
  {
   "cell_type": "code",
   "execution_count": null,
   "metadata": {},
   "outputs": [],
   "source": [
    "import pandas as pd \n",
    "df = pd.DataFrame(cva)\n",
    "df.to_csv('CVA_NOGEMPsc_3kJ.csv')"
   ]
  }
 ],
 "metadata": {
  "kernelspec": {
   "display_name": "MarcosPaper",
   "language": "python",
   "name": "marcospaper"
  },
  "language_info": {
   "codemirror_mode": {
    "name": "ipython",
    "version": 3
   },
   "file_extension": ".py",
   "mimetype": "text/x-python",
   "name": "python",
   "nbconvert_exporter": "python",
   "pygments_lexer": "ipython3",
   "version": "3.7.10"
  },
  "latex_envs": {
   "LaTeX_envs_menu_present": true,
   "autoclose": false,
   "autocomplete": true,
   "bibliofile": "biblio.bib",
   "cite_by": "apalike",
   "current_citInitial": 1,
   "eqLabelWithNumbers": true,
   "eqNumInitial": 1,
   "hotkeys": {
    "equation": "Ctrl-E",
    "itemize": "Ctrl-I"
   },
   "labels_anchors": false,
   "latex_user_defs": false,
   "report_style_numbering": false,
   "user_envs_cfg": false
  }
 },
 "nbformat": 4,
 "nbformat_minor": 4
}
