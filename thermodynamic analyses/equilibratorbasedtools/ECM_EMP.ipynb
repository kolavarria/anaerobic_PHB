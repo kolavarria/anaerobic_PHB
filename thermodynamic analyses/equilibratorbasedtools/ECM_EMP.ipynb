{
 "cells": [
  {
   "cell_type": "markdown",
   "metadata": {},
   "source": [
    "# Kinetic analysis of strategy enabling anaerobic production of PHB\n",
    "\n",
    "In this script, we have performed the ECM analyses for the thermodynamic investigation of the NOG+EMP pathway, also demonstrating how the analysis of other pathways and metabolic engineering strategies could be analyzed by other researchers with the custom-made functions we have developed in this study."
   ]
  },
  {
   "cell_type": "code",
   "execution_count": 1,
   "metadata": {},
   "outputs": [
    {
     "name": "stdout",
     "output_type": "stream",
     "text": [
      "Downloading package metadata...\n",
      "Fragments already downloaded\n",
      "Downloading package metadata...\n",
      "Fragments already downloaded\n"
     ]
    }
   ],
   "source": [
    "from equilibrator_api import Q_ #for creating quantity variables\n",
    "import equilibrator_custom_functions as eq #custom functions created during analysis\n",
    "import numpy as np #numerical package\n",
    "import math\n",
    "import matplotlib.pyplot as plt #plotting package\n",
    "import matplotlib.ticker as mtick"
   ]
  },
  {
   "cell_type": "markdown",
   "metadata": {},
   "source": [
    "# Input Files and their formats\n",
    "\n",
    "The script's input is based on the two custom __input csv files__, which are:\n",
    "\n",
    "   __The compound file__, with metabolite names, IDs and bounds. It is currently name \"metabolite_reference_table\"\n",
    "   \n",
    "   This file uses a custom csv file format, which contains information of multiple metabolites, to create a dictionary which will be used for the eQuilibrator API for high throughput analysis. This dictionary allows for writing reactions in a simpler way (with acronyms), and customizing the ranges of metabolites according to data. The columns contain the following elements:\n",
    "\n",
    "| Metabolite Acronym        | keggID                          | Lower Bound (M)             | Upper Bound (M)               |\n",
    "|------------------|----------------------------------|----------------------|------------------------|\n",
    "|Custom-defined name for metabolite| Kegg ID to identify metabolite (necessary to use specific kegg ID) | Custom-defined minimal concentration (in M)| Custom-defined maximal concentration (in M) |\n",
    "\n",
    "Notice that the columns do not need to be mantained in order to be recognized in the script. More usefull information can be added to the other columns, as the script will ignore the information stored in these.\n",
    "\n",
    "   __The pathway file__, with reaction names, formulae, fluxes, and, in the case of ECM, enzyme parameters (which will be read by other functions below). Being pathway specific, there are many files referenced in this script. The columns contain the follow basic setup:\n",
    "   \n",
    "| Reaction Formula        | Relative Flux                          | Reaction Name  |     Standard dG (kJ/mol)        | kcrf(1/s) | MWe(Da)        | kM(mM) |\n",
    "|------------------|----------------------------------|----------------------|------------------------|-----------------|-------|-----|\n",
    "|Using the acronyms defined in the compound file: S1 + S2 <=> P1 + P2| The relative stoichiometric coefficient of the reaction in the pathway | Customizable name to identify the reaction in graphs, for example | __(Optional)__ Standard Gibs Free Energy of Reaction in kJ/mol. These are custom values that can replace the values obtained from the eQuilibrator packages|__(Only needed for ECM)__ Forward catalytic rate of reaction's enzyme in 1/s (mind the direction of the reaction) |__(Only needed for ECM)__ Enzyme molecular weight, equivalent to Daltons |__(Only needed for ECM)__ Michaelis costants of each substrate and product (except water) in milimolar, with format example 'S1: 0.1 S2:0.02 P1:3 P2:0.3' | "
   ]
  },
  {
   "cell_type": "markdown",
   "metadata": {},
   "source": [
    "# Setting Intracellular Conditions\n",
    "\n",
    "Below we set the intracellular conditions in *E. coli*, i.e the pH, ionic strengh, temperature and pMg (which have an effect on the thermodynamics of reactions). Note that metabolite concentration bounds are also organism specific, but are defined in the compound file.\n",
    "\n",
    "In the cell bellow the name of the compound csv file is defined __(\"metabolite_reference_table\")__. With the function __eq.obtain_compound_settings( string: compound_file_name )__, we construct a __CompoundSettings__ object containing data structures for idetifying compounds and setting their maximal and minimal concentrations for the model)\n",
    "\n",
    "With __eq.change_bounds__ , one can create a new CompoundSettings object with specific changes in the metabolite concentration bounds.\n",
    "\n",
    "The __eq.fix_concentrations__ function can also be used when the concentration needs to fixed at a specific concentration"
   ]
  },
  {
   "cell_type": "code",
   "execution_count": 2,
   "metadata": {},
   "outputs": [],
   "source": [
    "#E. coli physiological conditions as a dictionary\n",
    "E_coli_con = {\n",
    "            \"p_h\": str(Q_(\"7.5\")),\n",
    "            \"p_mg\": str(Q_(10)),\n",
    "            \"ionic_strength\": str(Q_('200 mM')),\n",
    "            \"temperature\": str(Q_(37+273.15,\"K\")),\n",
    "            \"kcat_source\": \"fwd\",\n",
    "}\n",
    "\n",
    "#Generating Compound Settings with the default eQuilibrator bounds\n",
    "cs_default_bounds = eq.obtain_compound_settings(\"metabolite_reference_table_custom\", custom_bounds = True)\n",
    "#Lowering the CoA lower concentration bound to 1 uM, 'freeing' CoA concentration for optimization at lower levels\n",
    "#cs_free_CoA = eq.change_bounds(cs_default_bounds, [('CoA',Q_(1e-6,'M'), Q_(1e-3,'M'))])\n",
    "#Reducing AcCoA upper bound in order to represent conditions of lower size of CoA moiety of approximately 1 mM\n",
    "#cs_reduced_AcCoA_CoA = eq.change_bounds(cs_free_CoA, [('AcCoA',Q_(1e-6,'M'), Q_(1e-3,'M'))])\n",
    "#NAD and NADH are released to bounds of 0.1 mM and 1 mM\n",
    "#cs_free_NAD = eq.change_bounds(cs_free_CoA, [('NAD',Q_(1e-4,'M'),Q_(1e-3,'M')),('NADH',Q_(1e-4,'M'),Q_(1e-3,'M'))])"
   ]
  },
  {
   "cell_type": "markdown",
   "metadata": {},
   "source": [
    "# Calculating absolute flux of reactions\n",
    "\n",
    "For ECM, an important step is the calculation of absolute fluxes of reactions, which will affect the enzyme concentrations/masses calculated. Note that with the same compound settings and kinetic parameters, __(enzyme cost)/flux is a constant__, meaning that changing absolute flux won't affect the relative levels of enzymes (though it would change total concentrations).\n",
    "\n",
    "In this case the ATP consumption rate for cell maintenance (divided by the pathway's ATP yield of 2) is used to defined the __minimum pathway flux__, in a scenario in which cells are not growing, only surviving and accumulating PHB."
   ]
  },
  {
   "cell_type": "code",
   "execution_count": 3,
   "metadata": {},
   "outputs": [
    {
     "name": "stdout",
     "output_type": "stream",
     "text": [
      "0.00023391812865497077 molar / second\n"
     ]
    }
   ],
   "source": [
    "#CDW__Cmol_ratio = Q_(23.2,'g/mol')\n",
    "\n",
    "Volume_per_CDW = Q_(1.9, 'ul/mg').to('L/g')\n",
    "Y_ATP = Q_(2,'mol/mol') #mol ATP/mol pathway net reaction\n",
    "mATP_perCDW = Q_((3.2/1000/0.0019/3600)*3600*1.9e-3,'mol/gram/hour')\n",
    "\n",
    "flux_ATP = mATP_perCDW/Y_ATP/Volume_per_CDW\n",
    "\n",
    "flux_ATP = flux_ATP.to('M/s')\n",
    "\n",
    "print(flux_ATP)"
   ]
  },
  {
   "cell_type": "markdown",
   "metadata": {},
   "source": [
    "# Checking enzyme parameters according to Haldane Relationship\n",
    "\n",
    "The kinetic parameters of the all enzymes involved in the reaction can be readily verified by __eq.check_parameters__. For all the enzymes whose parameters yield a Haldane Relationship outside of the % tolerance for K<sub>EQ</sub>, a message will be printed. Tolerance is defined to 0% by default."
   ]
  },
  {
   "cell_type": "code",
   "execution_count": 4,
   "metadata": {},
   "outputs": [],
   "source": [
    "#(Keq,_) = eq.check_parameters(\"ED\",cs_default_bounds,E_coli_con,flux_ATP, tolerance = 0.05)"
   ]
  },
  {
   "cell_type": "markdown",
   "metadata": {},
   "source": [
    "# Enzyme Cost Minimization (ECM) analysis\n",
    "\n",
    "The ECM analysis can be performed with the function __eq.ECM_analysis__, using as arguments the name of the pathway csv file, the CompoundSettings object, the physiological context dictionary and the caculated absolute flux of the pathway. The function returns a model object which will be an input in the __eq.myECM__ function, where an initial log-concentration vector needs to be provided. The MDF solution is a suitable set of concentrations to use. The number of iterations can also be determined. The function returns the log-concentration vector of the solution.\n",
    "\n",
    "Here we perform ECM analysis for CoA moiety pools of 1 mM and 10 mM:"
   ]
  },
  {
   "cell_type": "code",
   "execution_count": 5,
   "metadata": {},
   "outputs": [
    {
     "name": "stderr",
     "output_type": "stream",
     "text": [
      "C:\\Programs\\Anaconda3\\envs\\MarcosPaper\\lib\\site-packages\\scipy\\optimize\\optimize.py:283: RuntimeWarning: Values in x were outside bounds during a minimize step, clipping to bounds\n",
      "  \"minimize step, clipping to bounds\", RuntimeWarning)\n"
     ]
    }
   ],
   "source": [
    "model_1mM = eq.ECM_analysis(\"EMP_ecm\",cs_default_bounds,E_coli_con,flux_ATP)\n",
    "#model_1mM = eq.ECM_analysis(\"ED\",cs_reduced_AcCoA_CoA,E_coli_con,flux_ATP)\n",
    "#model_10mM = eq.ECM_analysis(\"ED\",cs_free_CoA,E_coli_con,flux_ATP)\n",
    "\n",
    "#Calculate MDF and obtain the log([metabolites]) of the MDF solution.\n",
    "lnC_MDF_1mM = model_1mM.MDF()\n",
    "#lnC_MDF_10mM = model_10mM.MDF()\n",
    "\n",
    "lnC_ECM_1mM = eq.myECM(model_1mM.ecf,'SLSQP',ln_conc0 = lnC_MDF_1mM,n_iter=1000)\n",
    "#lnC_ECM_10mM = eq.myECM(model_10mM.ecf,'SLSQP',ln_conc0 = lnC_MDF_10mM,n_iter=1000)"
   ]
  },
  {
   "cell_type": "markdown",
   "metadata": {},
   "source": [
    "## Total enzyme mass concentration\n",
    "\n",
    "With the resulting log-concentration vector, total enzyme mass concentration can be determined with the function __eq.total_enzyme_volume__ (with inputs of model object and log-concentration vector). The result in gram/liter was also normalized to cell dry weight by dividing it with the volume per CDW value."
   ]
  },
  {
   "cell_type": "code",
   "execution_count": 6,
   "metadata": {},
   "outputs": [
    {
     "name": "stdout",
     "output_type": "stream",
     "text": [
      "(<Quantity(0.0410649109, 'dimensionless')>, <Quantity(21.613111, 'gram / liter')>)\n"
     ]
    }
   ],
   "source": [
    "print((eq.total_enzyme_volume(model_1mM,lnC_ECM_1mM)*Volume_per_CDW,eq.total_enzyme_volume(model_1mM,lnC_ECM_1mM)))\n",
    "#print((eq.total_enzyme_volume(model_10mM,lnC_ECM_10mM)*Volume_per_CDW,eq.total_enzyme_volume(model_10mM,lnC_ECM_10mM)))"
   ]
  },
  {
   "cell_type": "markdown",
   "metadata": {},
   "source": [
    "## Molar concentrations of enzymes\n",
    "\n",
    "Molar concentrations of each enzymes can be obtained in the followig manner:"
   ]
  },
  {
   "cell_type": "code",
   "execution_count": 7,
   "metadata": {},
   "outputs": [],
   "source": [
    "enz_conc = dict(zip(model_1mM.reaction_ids,list(model_1mM.ecf.ECF(lnC_ECM_1mM).flat)))\n",
    "#print(enz_conc)\n",
    "#type(enz_conc)\n",
    "\n",
    "import csv\n",
    "with open('molarEMP.csv', 'w', newline='') as csv_file:  \n",
    "    writer = csv.writer(csv_file,delimiter=',')\n",
    "    for key, value in enz_conc.items():\n",
    "      writer.writerow([key, value])"
   ]
  },
  {
   "cell_type": "markdown",
   "metadata": {},
   "source": [
    "## Mass concentrations of enzymes\n",
    "\n",
    "With the __enzyme_cost_distribution__ function, we can obtain an ordered dictionary of individual enzyme mass concentrations (in grams/liter) and individual percentages of total enzyme mass concentration."
   ]
  },
  {
   "cell_type": "code",
   "execution_count": 8,
   "metadata": {},
   "outputs": [
    {
     "name": "stdout",
     "output_type": "stream",
     "text": [
      "27.118989986850025\n"
     ]
    }
   ],
   "source": [
    "(totals_1mM,percents_1mM) = eq.enzyme_cost_distribution(model_1mM,lnC_ECM_1mM)\n",
    "#(totals_10mM,percents_10mM) = eq.enzyme_cost_distribution(model_10mM,lnC_ECM_10mM)\n",
    "\n",
    "#print(totals_1mM)\n",
    "#print(totals_10mM)\n",
    "\n",
    "#Example of how to access specific value:\n",
    "#percents_1mM['PhaB']\n",
    "\n",
    "totalThioAAR = (percents_1mM['Thio']*100)+(percents_1mM['AAR']*100)\n",
    "print(totalThioAAR)\n",
    "\n",
    "import csv\n",
    "with open('massEMP.csv', 'w', newline='') as csv_file:  \n",
    "    writer = csv.writer(csv_file,delimiter=',')\n",
    "    for key, value in totals_1mM.items():\n",
    "      writer.writerow([key, value])"
   ]
  },
  {
   "cell_type": "markdown",
   "metadata": {},
   "source": [
    "## Metabolite concentrations\n",
    "\n",
    "Metabolite concentrations (in M) can be verified in the following manner:"
   ]
  },
  {
   "cell_type": "code",
   "execution_count": 9,
   "metadata": {},
   "outputs": [
    {
     "name": "stdout",
     "output_type": "stream",
     "text": [
      "{'ATP': 0.00041900000000000005, 'ADP': 0.0009866217058149885, 'NAD': 0.0018571888702584621, 'Pi': 0.02015844863238147, 'NADH': 0.000452, 'CoA': 0.0002710000000000002, 'AcCoA': 0.00648277933662262, 'PYR': 0.0014188903128763836, 'FOR': 4.999999999999999e-06, 'Gluc': 0.0003658520251926583, 'PEP': 0.00024574386596791547, 'G3P': 0.00014370727884100074, 'ACDH': 3.259548676399972e-05, 'DHAP': 0.0014660082402557608, 'P3G': 0.004226162441553775, 'AcAcCoA': 2.4782457973397774e-06, 'G6P': 0.00405205774928735, 'BPG': 4.999999999999999e-06, 'P2G': 0.00032373253827639505, 'ETOH': 5.000000000000211e-06, 'FBP': 0.007669519916448523, 'HBCoA': 4.999999999999999e-06, 'F6P': 0.000685}\n"
     ]
    }
   ],
   "source": [
    "conc_dict_1mM = dict(zip(model_1mM.compound_ids, np.exp(lnC_ECM_1mM).flatten()))\n",
    "#conc_dict_10mM = dict(zip(model_10mM.compound_ids, np.exp(lnC_ECM_10mM).flatten()))\n",
    "\n",
    "print(conc_dict_1mM)\n",
    "#print(conc_dict_10mM)\n",
    "\n",
    "#Example of how to access specific value:\n",
    "#conc_dict_1mM['NADH']"
   ]
  },
  {
   "cell_type": "markdown",
   "metadata": {},
   "source": [
    "## Plotting enzyme demand distribution:\n",
    "\n",
    "We use the function __eq.ECM_plot__ for plotting these graphs. The main difference from the original eQuilibrator plotting function is that in our case the measured concentrations of metabolites are not mandatory for plotting the graph."
   ]
  },
  {
   "cell_type": "code",
   "execution_count": 10,
   "metadata": {},
   "outputs": [
    {
     "name": "stderr",
     "output_type": "stream",
     "text": [
      "WARNING:matplotlib.legend:No handles with labels found to put in legend.\n"
     ]
    },
    {
     "data": {
      "image/png": "[encoded data removed]",
      "text/plain": [
       "<Figure size 504x360 with 1 Axes>"
      ]
     },
     "metadata": {
      "needs_background": "light"
     },
     "output_type": "display_data"
    }
   ],
   "source": [
    "fig1 = plt.figure(figsize=(7, 5))\n",
    "\n",
    "ECM_1mM_mass_conc= round(eq.total_enzyme_volume(model_1mM,lnC_ECM_1mM).m_as('g/L'),2)\n",
    "ax_1mM = fig1.add_subplot(1, 1, 1)\n",
    "ax_1mM.set_title(\"Protein cost: \" + str(ECM_1mM_mass_conc) + ' $g/L_{cyt}$')\n",
    "ax_1mM.legend(loc=\"center left\", bbox_to_anchor=(1, 0.5));\n",
    "eq.ECM_plot(model_1mM,lnC_ECM_1mM,ax_1mM)\n",
    "ax_1mM.annotate(\"EMP\", xy=(0, 1.02), xycoords=\"axes fraction\",fontsize = 18, fontweight = 'demibold')\n",
    "plt.ylim( (pow(10,-7),pow(10,-3)) )\n",
    "fig1.savefig('ECM_EMP.tiff', dpi = 150)"
   ]
  },
  {
   "cell_type": "markdown",
   "metadata": {},
   "source": [
    "## Enzyme cost partition values\n",
    "\n",
    "The partions of enzyme cost can be obtained by the __model.ecf.GetEnzymeCostPartitions__ function, and returns a 2D array with basic capacity concentrations (blue bars) on 1st column, fold increase in demand due to thermodynamics (orange bar) in the 2nd column and fold increase in demand due to saturation (brown bar) in 3rd. The 4th column is related to regulation fold change, which was not analyzed in our study."
   ]
  },
  {
   "cell_type": "code",
   "execution_count": 11,
   "metadata": {},
   "outputs": [
    {
     "name": "stdout",
     "output_type": "stream",
     "text": [
      "[[1.72652546e-06 1.00527958e+00 2.67864355e+00 4.00000000e+00]\n",
      " [6.01322160e-06 1.86770257e+00 1.37830249e+00 4.00000000e+00]\n",
      " [1.16940938e-05 1.00668845e+00 1.03798425e+00 4.00000000e+00]\n",
      " [8.82909824e-05 1.20426314e+00 1.35959297e+00 4.00000000e+00]\n",
      " [1.94752093e-07 1.13006945e+01 4.13251211e+00 4.00000000e+00]\n",
      " [5.40468151e-06 1.77506676e+00 7.09781275e+00 4.00000000e+00]\n",
      " [1.19695370e-06 1.23461017e+00 4.82648482e+00 4.00000000e+00]\n",
      " [1.24871550e-05 1.68950011e+00 1.57475318e+00 4.00000000e+00]\n",
      " [7.16641905e-06 1.17092398e+00 2.65682164e+00 4.00000000e+00]\n",
      " [6.06725149e-06 1.00022954e+00 2.78688520e+00 4.00000000e+00]\n",
      " [2.23337514e-05 1.04671600e+00 1.12192212e+00 4.00000000e+00]\n",
      " [5.48821622e-09 1.00088146e+00 2.30045670e+02 4.00000000e+00]\n",
      " [9.20225306e-07 1.00001993e+00 3.40346408e+00 4.00000000e+00]\n",
      " [4.68356133e-05 1.71275787e+00 1.05132105e+00 4.00000000e+00]\n",
      " [3.20324995e-06 1.04143474e+00 2.72685461e+01 4.00000000e+00]]\n"
     ]
    }
   ],
   "source": [
    "print(model_1mM.ecf.GetEnzymeCostPartitions(lnC_ECM_1mM))\n",
    "np.savetxt(\"costsEMP.csv\", model_1mM.ecf.GetEnzymeCostPartitions(lnC_ECM_1mM), delimiter=',')"
   ]
  },
  {
   "cell_type": "markdown",
   "metadata": {},
   "source": [
    "## Optmizing NADH/NAD\n",
    "\n",
    "We also analyze the ECM when the NADH/NAD ratio is free to be optimized:"
   ]
  },
  {
   "cell_type": "code",
   "execution_count": null,
   "metadata": {},
   "outputs": [],
   "source": [
    "\n"
   ]
  },
  {
   "cell_type": "code",
   "execution_count": null,
   "metadata": {},
   "outputs": [],
   "source": []
  },
  {
   "cell_type": "markdown",
   "metadata": {},
   "source": [
    "# Parameter sweep of K<sub>M</sub> values of acetoacetyl-CoA reductase\n",
    "\n",
    "Due to a significant portion of the enzyme cost being of acetoacetyl-CoA reductase (PhaB), we have performed a K<sub>M</sub> parameter sweep for the substrates and products of the enzyme, with the function __eq.ECM_kM_sweep__:"
   ]
  },
  {
   "cell_type": "code",
   "execution_count": null,
   "metadata": {},
   "outputs": [],
   "source": []
  },
  {
   "cell_type": "code",
   "execution_count": null,
   "metadata": {},
   "outputs": [],
   "source": []
  },
  {
   "cell_type": "markdown",
   "metadata": {},
   "source": [
    "# Substrate Channeling in ECM\n",
    "\n",
    "We perform the same ECM analysis with implemented substrate channeling of ketothiolase and acetoacetyl-CoA reductase:"
   ]
  },
  {
   "cell_type": "code",
   "execution_count": null,
   "metadata": {},
   "outputs": [],
   "source": []
  },
  {
   "cell_type": "code",
   "execution_count": null,
   "metadata": {},
   "outputs": [],
   "source": []
  },
  {
   "cell_type": "markdown",
   "metadata": {},
   "source": [
    "We do the same to the case in which substrate channeling is implemented between the three enzymes from *phaCAB*:"
   ]
  },
  {
   "cell_type": "code",
   "execution_count": null,
   "metadata": {},
   "outputs": [],
   "source": []
  },
  {
   "cell_type": "code",
   "execution_count": null,
   "metadata": {},
   "outputs": [],
   "source": []
  }
 ],
 "metadata": {
  "kernelspec": {
   "display_name": "MarcosPaper",
   "language": "python",
   "name": "marcospaper"
  },
  "language_info": {
   "codemirror_mode": {
    "name": "ipython",
    "version": 3
   },
   "file_extension": ".py",
   "mimetype": "text/x-python",
   "name": "python",
   "nbconvert_exporter": "python",
   "pygments_lexer": "ipython3",
   "version": "3.7.10"
  },
  "latex_envs": {
   "LaTeX_envs_menu_present": true,
   "autoclose": false,
   "autocomplete": true,
   "bibliofile": "biblio.bib",
   "cite_by": "apalike",
   "current_citInitial": 1,
   "eqLabelWithNumbers": true,
   "eqNumInitial": 1,
   "hotkeys": {
    "equation": "Ctrl-E",
    "itemize": "Ctrl-I"
   },
   "labels_anchors": false,
   "latex_user_defs": false,
   "report_style_numbering": false,
   "user_envs_cfg": false
  }
 },
 "nbformat": 4,
 "nbformat_minor": 4
}
